{
 "cells": [
  {
   "cell_type": "code",
   "execution_count": null,
   "id": "5357f41d-e24b-4bff-956a-622bf98f44fc",
   "metadata": {},
   "outputs": [],
   "source": []
  }
 ],
 "metadata": {
  "kernelspec": {
   "display_name": "",
   "name": ""
  },
  "language_info": {
   "name": ""
  }
 },
 "nbformat": 4,
 "nbformat_minor": 5
}
